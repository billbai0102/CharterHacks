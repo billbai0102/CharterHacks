{
 "cells": [
  {
   "cell_type": "code",
   "execution_count": 9,
   "metadata": {
    "collapsed": true
   },
   "outputs": [],
   "source": [
    "import torch\n",
    "from torch import nn\n",
    "from torch import optim\n",
    "from torchsummary import summary\n",
    "from torch.nn import functional as F\n",
    "from torchvision import transforms, utils\n",
    "from torch.utils.data import Dataset, random_split, DataLoader\n",
    "\n",
    "import os\n",
    "import yaml\n",
    "import numpy as np\n",
    "import matplotlib.pyplot as plt\n",
    "import pandas as pd\n",
    "from PIL import Image, ImageDraw\n",
    "\n",
    "torch.manual_seed(0)\n",
    "np.random.seed(0)"
   ]
  },
  {
   "cell_type": "code",
   "execution_count": 10,
   "outputs": [],
   "source": [
    "with open('hyperparameters.yaml') as f:\n",
    "    hp = yaml.safe_load(f)['hyperparameters']"
   ],
   "metadata": {
    "collapsed": false,
    "pycharm": {
     "name": "#%%\n"
    }
   }
  },
  {
   "cell_type": "code",
   "execution_count": 16,
   "outputs": [],
   "source": [
    "train_labels = pd.read_csv('./data/DermMel/train_labels.csv')\n",
    "val_labels = pd.read_csv('./data/DermMel/val_labels.csv')\n",
    "test_labels = pd.read_csv('./data/DermMel/test_labels.csv')\n",
    "\n",
    "train_images = './data/DermMel/train/'\n",
    "val_images = './data/DermMel/valid/'\n",
    "test_images = './data/DermMel/test/'"
   ],
   "metadata": {
    "collapsed": false,
    "pycharm": {
     "name": "#%%\n"
    }
   }
  },
  {
   "cell_type": "code",
   "execution_count": 17,
   "outputs": [
    {
     "data": {
      "text/plain": "   index            id  target\n0      0  ISIC_0026529       0\n1      1    AUG_0_3997       1\n2      2  ISIC_0025285       0\n3      3  ISIC_0033070       0\n4      4  ISIC_0031685       0",
      "text/html": "<div>\n<style scoped>\n    .dataframe tbody tr th:only-of-type {\n        vertical-align: middle;\n    }\n\n    .dataframe tbody tr th {\n        vertical-align: top;\n    }\n\n    .dataframe thead th {\n        text-align: right;\n    }\n</style>\n<table border=\"1\" class=\"dataframe\">\n  <thead>\n    <tr style=\"text-align: right;\">\n      <th></th>\n      <th>index</th>\n      <th>id</th>\n      <th>target</th>\n    </tr>\n  </thead>\n  <tbody>\n    <tr>\n      <th>0</th>\n      <td>0</td>\n      <td>ISIC_0026529</td>\n      <td>0</td>\n    </tr>\n    <tr>\n      <th>1</th>\n      <td>1</td>\n      <td>AUG_0_3997</td>\n      <td>1</td>\n    </tr>\n    <tr>\n      <th>2</th>\n      <td>2</td>\n      <td>ISIC_0025285</td>\n      <td>0</td>\n    </tr>\n    <tr>\n      <th>3</th>\n      <td>3</td>\n      <td>ISIC_0033070</td>\n      <td>0</td>\n    </tr>\n    <tr>\n      <th>4</th>\n      <td>4</td>\n      <td>ISIC_0031685</td>\n      <td>0</td>\n    </tr>\n  </tbody>\n</table>\n</div>"
     },
     "execution_count": 17,
     "metadata": {},
     "output_type": "execute_result"
    }
   ],
   "source": [
    "train_labels.head()"
   ],
   "metadata": {
    "collapsed": false,
    "pycharm": {
     "name": "#%%\n"
    }
   }
  },
  {
   "cell_type": "code",
   "execution_count": 18,
   "outputs": [
    {
     "data": {
      "text/plain": "<matplotlib.axes._subplots.AxesSubplot at 0x1c93cab42c8>"
     },
     "execution_count": 18,
     "metadata": {},
     "output_type": "execute_result"
    },
    {
     "data": {
      "text/plain": "<Figure size 1080x1080 with 1 Axes>",
      "image/png": "[encoded data removed]"
     },
     "metadata": {
      "needs_background": "light"
     },
     "output_type": "display_data"
    }
   ],
   "source": [
    "train_labels['target'].hist()"
   ],
   "metadata": {
    "collapsed": false,
    "pycharm": {
     "name": "#%%\n"
    }
   }
  },
  {
   "cell_type": "code",
   "execution_count": 19,
   "outputs": [
    {
     "name": "stdout",
     "output_type": "stream",
     "text": [
      "Malignant: ['AUG_0_3997' 'AUGmented_0_6536' 'AUG_0_538' 'AUG_0_889'\n",
      " 'AUGmented_0_8594' 'AUG_0_3968' 'AUG_0_3705' 'AUGmented_0_9575'\n",
      " 'AUG_0_4955' 'AUGmented_0_8392' 'AUGmented_0_4221' 'AUG_0_9794'\n",
      " 'AUG_0_4436' 'AUGmented_0_3310' 'AUG_0_1744']\n",
      "Normal: ['ISIC_0026529' 'ISIC_0025285' 'ISIC_0033070' 'ISIC_0031685'\n",
      " 'ISIC_0025945' 'ISIC_0026480' 'ISIC_0033720' 'ISIC_0028429'\n",
      " 'ISIC_0033019' 'ISIC_0025574' 'ISIC_0026409' 'ISIC_0031825'\n",
      " 'ISIC_0026673' 'ISIC_0028886' 'ISIC_0025801']\n"
     ]
    }
   ],
   "source": [
    "malignant_ids = train_labels.loc[train_labels['target'] == 1]['id'].values\n",
    "benign_ids = train_labels.loc[train_labels['target'] == 0]['id'].values\n",
    "\n",
    "print(f'Malignant: {malignant_ids[:15]}')\n",
    "print(f'Normal: {benign_ids[:15]}')"
   ],
   "metadata": {
    "collapsed": false,
    "pycharm": {
     "name": "#%%\n"
    }
   }
  },
  {
   "cell_type": "code",
   "execution_count": null,
   "outputs": [],
   "source": [
    "\n"
   ],
   "metadata": {
    "collapsed": false,
    "pycharm": {
     "name": "#%%\n"
    }
   }
  }
 ],
 "metadata": {
  "kernelspec": {
   "name": "deeplearning",
   "language": "python",
   "display_name": "DeepLearning"
  },
  "language_info": {
   "codemirror_mode": {
    "name": "ipython",
    "version": 2
   },
   "file_extension": ".py",
   "mimetype": "text/x-python",
   "name": "python",
   "nbconvert_exporter": "python",
   "pygments_lexer": "ipython2",
   "version": "2.7.6"
  }
 },
 "nbformat": 4,
 "nbformat_minor": 0
}